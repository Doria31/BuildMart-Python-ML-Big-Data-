{
  "nbformat": 4,
  "nbformat_minor": 0,
  "metadata": {
    "colab": {
      "provenance": []
    },
    "kernelspec": {
      "name": "python3",
      "display_name": "Python 3"
    },
    "language_info": {
      "name": "python"
    }
  },
  "cells": [
    {
      "cell_type": "markdown",
      "source": [
        "# **Proyecto para Detección y conteo de Personas**"
      ],
      "metadata": {
        "id": "8ccWa2r0arNQ"
      }
    },
    {
      "cell_type": "markdown",
      "source": [
        "Para este proyecto se utilizó Python, OpenCV y el identificador HOGDescriptor"
      ],
      "metadata": {
        "id": "BRXEW5-VcwAZ"
      }
    },
    {
      "cell_type": "markdown",
      "source": [
        "## **Instalaciones necesarias**"
      ],
      "metadata": {
        "id": "aFdEwiNpwJm4"
      }
    },
    {
      "cell_type": "markdown",
      "source": [
        "Antes de iniciar con el proyecto, es recomendable crear nuestro entorno virtual, para esto realizamos los siguientes pasos:\n",
        "\n",
        "- Abrimos un nueva carpeta para nuestro proyecto con VS Code o nuestro editor de preferencia e ingresamos el siguiente comando en nuestra terminal:"
      ],
      "metadata": {
        "id": "PLn5lDbsvJ9t"
      }
    },
    {
      "cell_type": "code",
      "source": [
        "# python -m venv nombre_del_entorno"
      ],
      "metadata": {
        "id": "2OApx2YyvXJx"
      },
      "execution_count": null,
      "outputs": []
    },
    {
      "cell_type": "markdown",
      "source": [
        "- Luego activamos nuestro entorno virtual:"
      ],
      "metadata": {
        "id": "Ty4F7NA5wWsh"
      }
    },
    {
      "cell_type": "code",
      "source": [
        "# .\\venv\\Scripts\\Activate.ps1"
      ],
      "metadata": {
        "id": "6n33rprwwhbf"
      },
      "execution_count": null,
      "outputs": []
    },
    {
      "cell_type": "markdown",
      "source": [
        "- Posteriormente, instalamos OpenCV con el siguiente comando en nuestra terminal:"
      ],
      "metadata": {
        "id": "Bf3X5szyvesL"
      }
    },
    {
      "cell_type": "code",
      "source": [
        "# python -m pip install opencv-python"
      ],
      "metadata": {
        "id": "MYZdEURfvkrw"
      },
      "execution_count": null,
      "outputs": []
    },
    {
      "cell_type": "markdown",
      "source": [
        "Por ultimo creamos un archivo .ipynb en el cual vamos a ejecutar nuestro codigo.\n",
        "\n",
        "Por ejemplo:\n",
        "\n",
        "nombre_tu_proyecto.ipynb"
      ],
      "metadata": {
        "id": "j3SXPK1nvuak"
      }
    },
    {
      "cell_type": "markdown",
      "source": [
        "## **Desarrollo del proyecto**"
      ],
      "metadata": {
        "id": "xODYxElFwm9g"
      }
    },
    {
      "cell_type": "markdown",
      "source": [
        "Despues de realizadas las intalaciones necesarias, iniciamos con el desarrollo del proyecto, siguiendo estos pasos:"
      ],
      "metadata": {
        "id": "61eDOQmRv3P6"
      }
    },
    {
      "cell_type": "markdown",
      "source": [
        "\n",
        "1. Se importa la librería OpenCV, que se usa para procesar imágenes y video. Esencial para tareas como detección de objetos, rostros, bordes, etc."
      ],
      "metadata": {
        "id": "XPX589mdhrRA"
      }
    },
    {
      "cell_type": "code",
      "source": [
        "import cv2"
      ],
      "metadata": {
        "id": "IHjMaPq8hwSl"
      },
      "execution_count": null,
      "outputs": []
    },
    {
      "cell_type": "markdown",
      "source": [
        "2. Inicialización del detector. Crea un objeto que usa el algoritmo HOG (Histogram of Oriented Gradients). Este método detecta formas y bordes típicos de un cuerpo humano analizando la orientación de los píxeles."
      ],
      "metadata": {
        "id": "mPNQv4SShyVF"
      }
    },
    {
      "cell_type": "code",
      "source": [
        "clasificador_person = cv2.HOGDescriptor()"
      ],
      "metadata": {
        "id": "ClujzlFuh4pZ"
      },
      "execution_count": null,
      "outputs": []
    },
    {
      "cell_type": "markdown",
      "source": [
        "3. Se carga un clasificador SVM preentrenado para detectar personas.\n",
        "SVM (Support Vector Machine) es un modelo de aprendizaje automático que ya fue entrenado por OpenCV para reconocer siluetas humanas basadas en HOG."
      ],
      "metadata": {
        "id": "tHgI6xcyiAPN"
      }
    },
    {
      "cell_type": "code",
      "source": [
        "clasificador_person.setSVMDetector(cv2.HOGDescriptor_getDefaultPeopleDetector())"
      ],
      "metadata": {
        "id": "Cbnk-Rgpjh42"
      },
      "execution_count": null,
      "outputs": []
    },
    {
      "cell_type": "markdown",
      "source": [
        "4. Abrir la cámara\n",
        "\n",
        "   0: la cámara predeterminada.\n",
        "\n",
        "   1: la segunda cámara (si hay otra)."
      ],
      "metadata": {
        "id": "FVkXM9w5jskP"
      }
    },
    {
      "cell_type": "code",
      "source": [
        "captura_video = cv2.VideoCapture(0)"
      ],
      "metadata": {
        "id": "qc4w25-5j8MW"
      },
      "execution_count": null,
      "outputs": []
    },
    {
      "cell_type": "markdown",
      "source": [
        "5. Verifica si la cámara se abrió correctamente.\n",
        "   Si no, muestra un mensaje y termina el programa."
      ],
      "metadata": {
        "id": "I-6GeWxNj9iy"
      }
    },
    {
      "cell_type": "code",
      "source": [
        "if not captura_video.isOpened():\n",
        "    print(\"No se pudo abrir la cámara\")\n",
        "    exit()"
      ],
      "metadata": {
        "id": "9NRqQANLkI3z"
      },
      "execution_count": null,
      "outputs": []
    },
    {
      "cell_type": "markdown",
      "source": [
        "6. Captura de video en bucle\n",
        "   - read() toma una imagen (fotograma) de la cámara.\n",
        "   - ret: True si la captura fue exitosa.\n",
        "   - **frame**: contiene la imagen tomada."
      ],
      "metadata": {
        "id": "tm1UUOK7m8Hv"
      }
    },
    {
      "cell_type": "code",
      "source": [
        "while True:\n",
        "    ret, frame = captura_video.read()\n",
        "    if not ret:\n",
        "        break"
      ],
      "metadata": {
        "id": "b_afSdsZnEMm"
      },
      "execution_count": null,
      "outputs": []
    },
    {
      "cell_type": "markdown",
      "source": [
        "7. Redimensionar el fotograma\n",
        "   - Cambia el tamaño del fotograma.\n",
        "   \n",
        "   Mejora la velocidad de procesamiento (menos píxeles que analizar)."
      ],
      "metadata": {
        "id": "vHqF61y-sDJT"
      }
    },
    {
      "cell_type": "code",
      "source": [
        "frame = cv2.resize(frame, (640, 480))"
      ],
      "metadata": {
        "id": "TbrMtLoxs6pA"
      },
      "execution_count": null,
      "outputs": []
    },
    {
      "cell_type": "markdown",
      "source": [
        "8. Preprocesamiento de imagen\n",
        "   - Convierte la imagen de color BGR → escala de grises.\n",
        "   - El detector no necesita color, solo intensidades y bordes.\n"
      ],
      "metadata": {
        "id": "jsJIwe1YtCFn"
      }
    },
    {
      "cell_type": "code",
      "source": [
        "gray = cv2.cvtColor(frame, cv2.COLOR_BGR2GRAY)"
      ],
      "metadata": {
        "id": "H4Tl3VKZtUIR"
      },
      "execution_count": null,
      "outputs": []
    },
    {
      "cell_type": "markdown",
      "source": [
        "   - 8.1 Procesamiento de imagen\n",
        "     - Aplica un suavizado Gaussiano para eliminar ruido. Esto ayuda a evitar falsas detecciones."
      ],
      "metadata": {
        "id": "LLo3GQW0tVAp"
      }
    },
    {
      "cell_type": "code",
      "source": [
        "gray = cv2.GaussianBlur(gray, (5, 5), 0)"
      ],
      "metadata": {
        "id": "p76tEnCxtfnU"
      },
      "execution_count": null,
      "outputs": []
    },
    {
      "cell_type": "markdown",
      "source": [
        "- 8.2 Procesamiento de imagen\n",
        "   - Ecualiza el histograma: mejora el contraste.\n",
        "   - Muy útil si la imagen está muy clara u oscura.\n",
        "   - Realza los bordes y siluetas, que es lo que usa HOG."
      ],
      "metadata": {
        "id": "riTnBIJrtuyh"
      }
    },
    {
      "cell_type": "code",
      "source": [
        "gray = cv2.equalizeHist(gray)"
      ],
      "metadata": {
        "id": "WaqzSeFLuLNC"
      },
      "execution_count": null,
      "outputs": []
    },
    {
      "cell_type": "markdown",
      "source": [
        "9. Detección de personas con HOG\n",
        "   - Detecta regiones con forma de persona.\n",
        "\n",
        "Devuelve:\n",
        " - boxes: lista de coordenadas (x, y, w, h) donde se encontró una persona\n",
        " - weights: nivel de confianza de cada detección."
      ],
      "metadata": {
        "id": "Fnuva26WuWJS"
      }
    },
    {
      "cell_type": "code",
      "source": [
        "boxes, weights = clasificador_person.detectMultiScale(gray, winStride=(8, 8), padding=(8, 8), scale=1.05)"
      ],
      "metadata": {
        "id": "GoHaU-6Kux6R"
      },
      "execution_count": null,
      "outputs": []
    },
    {
      "cell_type": "markdown",
      "source": [
        "Parámetros clave:\n",
        "\n",
        "- winStride=(8, 8):\n",
        "  - Tamaño del paso de la ventana de detección.\n",
        "  - Valores pequeños: más preciso, pero más lento.\n",
        "- padding=(8, 8):\n",
        "    - Cuánto espacio se deja alrededor del área analizada.\n",
        "- scale=1.05:\n",
        "    - Factor de escalado: busca personas de distintos tamaños (más pequeñas o grandes)."
      ],
      "metadata": {
        "id": "YVgadrAevjHB"
      }
    },
    {
      "cell_type": "markdown",
      "source": [
        "10. Contar y dibujar las detecciones\n",
        "- Cuenta cuántas personas fueron detectadas."
      ],
      "metadata": {
        "id": "xBfpFDPev-fE"
      }
    },
    {
      "cell_type": "code",
      "source": [
        "num_personas = len(boxes)"
      ],
      "metadata": {
        "id": "i4N8Or3HwIk3"
      },
      "execution_count": null,
      "outputs": []
    },
    {
      "cell_type": "markdown",
      "source": [
        "Dibuja un rectángulo verde en cada persona detectada:\n",
        "\n",
        " - (x, y) es la esquina superior izquierda.\n",
        "\n",
        " - (x + w, y + h) es la inferior derecha.\n",
        "\n",
        " - (0, 255, 0) es el color verde (formato BGR).\n",
        "\n",
        " - 2 es el grosor de la línea."
      ],
      "metadata": {
        "id": "noYixIBIwNny"
      }
    },
    {
      "cell_type": "code",
      "source": [
        "for (x, y, w, h) in boxes:\n",
        "    cv2.rectangle(frame, (x, y), (x + w, y + h), (0, 255, 0), 2)"
      ],
      "metadata": {
        "id": "lZGjpDHIwpH5"
      },
      "execution_count": null,
      "outputs": []
    },
    {
      "cell_type": "markdown",
      "source": [
        "11. Mostrar el contador en pantalla\n",
        "\n",
        "- Pone un texto con la cantidad de personas detectadas en la esquina superior izquierda.\n",
        "\n",
        "- Fuente, tamaño, color, grosor y tipo de línea están configurados."
      ],
      "metadata": {
        "id": "dSz9mShmwyv-"
      }
    },
    {
      "cell_type": "code",
      "source": [
        "cv2.putText(frame, f'Personas: {num_personas}', (10, 30),\n",
        "            cv2.FONT_HERSHEY_SIMPLEX, 1, (0, 255, 0), 2, cv2.LINE_AA)"
      ],
      "metadata": {
        "id": "Zs13AHP8w_ub"
      },
      "execution_count": null,
      "outputs": []
    },
    {
      "cell_type": "markdown",
      "source": [
        "12. Mostrar ventana de resultado\n",
        "- Muestra la imagen con las detecciones en una ventana llamada 'Detección de personas (HOG + SVM)'.\n",
        "\n",
        "\n",
        "\n"
      ],
      "metadata": {
        "id": "bRa9gDDYxHg3"
      }
    },
    {
      "cell_type": "code",
      "source": [
        "cv2.imshow('Detección de personas (HOG + SVM)', frame)"
      ],
      "metadata": {
        "id": "mMgL40-wxOHn"
      },
      "execution_count": null,
      "outputs": []
    },
    {
      "cell_type": "markdown",
      "source": [
        "13. Salida del bucle\n",
        "\n",
        "- Espera 1 milisegundo por una tecla.\n",
        "\n",
        "- Si se presiona la tecla 'q', se sale del bucle y se termina el programa."
      ],
      "metadata": {
        "id": "psrzVpHyxWhh"
      }
    },
    {
      "cell_type": "markdown",
      "source": [
        "14. Liberar recursos\n",
        "- Libera la cámara y cierra todas las ventanas abiertas por OpenCV.\n",
        "\n",
        "captura_video.release(): Esta línea libera el recurso de la cámara que estaba siendo usado por OpenCV.\n",
        "\n",
        "cv2.destroyAllWindows(): Esta función cierra todas las ventanas abiertas por OpenCV."
      ],
      "metadata": {
        "id": "E8pL4LtZxflB"
      }
    },
    {
      "cell_type": "code",
      "source": [
        "captura_video.release()\n",
        "cv2.destroyAllWindows()"
      ],
      "metadata": {
        "id": "iDTamLW6yC-R"
      },
      "execution_count": null,
      "outputs": []
    },
    {
      "cell_type": "markdown",
      "source": [
        "## **Equipo BuildMart**\n"
      ],
      "metadata": {
        "id": "BfGW95JK1jIe"
      }
    },
    {
      "cell_type": "markdown",
      "source": [
        "Integrantes:\n",
        "\n",
        "- Miguel Alejandro Urango Doria\n",
        "- Juan José Vanegas Asprilla\n",
        "- David Gustavo Moncada Salazar"
      ],
      "metadata": {
        "id": "CMTWhFyD2PNZ"
      }
    },
    {
      "cell_type": "markdown",
      "source": [
        "\n",
        "## **Ficha: 2821726**"
      ],
      "metadata": {
        "id": "ES8TzFjS2Fdz"
      }
    }
  ]
}