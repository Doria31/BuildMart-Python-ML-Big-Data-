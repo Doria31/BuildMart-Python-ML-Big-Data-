{
 "cells": [
  {
   "cell_type": "markdown",
   "metadata": {},
   "source": [
    "# Proyecto con Python y OpenCV para la detección y conteo de personas"
   ]
  },
  {
   "cell_type": "code",
   "execution_count": 1,
   "metadata": {},
   "outputs": [],
   "source": [
    "import cv2\n",
    "\n",
    "# Inicializar el detector HOG con el clasificador preentrenado para personas\n",
    "clasificador_person = cv2.HOGDescriptor()\n",
    "clasificador_person.setSVMDetector(cv2.HOGDescriptor_getDefaultPeopleDetector())\n",
    "\n",
    "# Abrir la cámara (usa 0 o 1 dependiendo de cuál cámara tengas disponible)\n",
    "captura_video = cv2.VideoCapture(0)\n",
    "\n",
    "if not captura_video.isOpened():\n",
    "    print(\"No se pudo abrir la cámara\")\n",
    "    exit()\n",
    "\n",
    "while True:\n",
    "    ret, frame = captura_video.read()\n",
    "    if not ret:\n",
    "        break\n",
    "\n",
    "    # Redimensionar el frame para mayor velocidad (opcional)\n",
    "    frame = cv2.resize(frame, (640, 480))\n",
    "\n",
    "    # Convertir a escala de grises (mejora la detección)\n",
    "    gray = cv2.cvtColor(frame, cv2.COLOR_BGR2GRAY)\n",
    "\n",
    "    # Aplicar suavizado y ecualización para mejorar contraste\n",
    "    gray = cv2.GaussianBlur(gray, (5, 5), 0)\n",
    "    gray = cv2.equalizeHist(gray)\n",
    "\n",
    "    # Detección de personas usando HOG\n",
    "    boxes, weights = clasificador_person.detectMultiScale(gray, winStride=(8, 8), padding=(8, 8), scale=1.05)\n",
    "\n",
    "    # Contar el número de personas detectadas\n",
    "    num_personas = len(boxes)\n",
    "\n",
    "    # Dibujar los rectángulos sobre las detecciones\n",
    "    for (x, y, w, h) in boxes:\n",
    "        cv2.rectangle(frame, (x, y), (x + w, y + h), (0, 255, 0), 2)\n",
    "\n",
    "    # Mostrar el número de personas detectadas\n",
    "    cv2.putText(frame, f'Personas: {num_personas}', (10, 30),\n",
    "                cv2.FONT_HERSHEY_SIMPLEX, 1, (0, 255, 0), 2, cv2.LINE_AA)\n",
    "\n",
    "    # Mostrar el resultado en una ventana\n",
    "    cv2.imshow('Detección de personas (HOG + SVM)', frame)\n",
    "\n",
    "    # Salir si se presiona 'q'\n",
    "    if cv2.waitKey(1) & 0xFF == ord('q'):\n",
    "        break\n",
    "\n",
    "# Liberar recursos\n",
    "captura_video.release()\n",
    "cv2.destroyAllWindows()\n"
   ]
  },
  {
   "cell_type": "markdown",
   "metadata": {},
   "source": [
    "## Equipo BuildMart"
   ]
  },
  {
   "cell_type": "markdown",
   "metadata": {},
   "source": [
    "Integrantes:\n",
    "\n",
    "- Miguel Alejandro Urango Doria\n",
    "- Juan José Vanegas Asprilla\n",
    "- David Gustavo Moncada Salazar\n",
    "\n",
    "### Ficha: 2821726\n",
    "\n"
   ]
  }
 ],
 "metadata": {
  "kernelspec": {
   "display_name": "venv",
   "language": "python",
   "name": "python3"
  },
  "language_info": {
   "codemirror_mode": {
    "name": "ipython",
    "version": 3
   },
   "file_extension": ".py",
   "mimetype": "text/x-python",
   "name": "python",
   "nbconvert_exporter": "python",
   "pygments_lexer": "ipython3",
   "version": "3.13.2"
  }
 },
 "nbformat": 4,
 "nbformat_minor": 2
}
